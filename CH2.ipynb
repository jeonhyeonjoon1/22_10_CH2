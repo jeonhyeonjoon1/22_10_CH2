{
  "nbformat": 4,
  "nbformat_minor": 0,
  "metadata": {
    "colab": {
      "provenance": [],
      "authorship_tag": "ABX9TyPoNrWwDuMKHu+/zF8/VffV",
      "include_colab_link": true
    },
    "kernelspec": {
      "name": "python3",
      "display_name": "Python 3"
    },
    "language_info": {
      "name": "python"
    }
  },
  "cells": [
    {
      "cell_type": "markdown",
      "metadata": {
        "id": "view-in-github",
        "colab_type": "text"
      },
      "source": [
        "<a href=\"https://colab.research.google.com/github/jeonhyeonjoon1/22_10_CH2/blob/main/CH2.ipynb\" target=\"_parent\"><img src=\"https://colab.research.google.com/assets/colab-badge.svg\" alt=\"Open In Colab\"/></a>"
      ]
    },
    {
      "cell_type": "code",
      "execution_count": 2,
      "metadata": {
        "colab": {
          "base_uri": "https://localhost:8080/"
        },
        "id": "ahReH5xPl6WD",
        "outputId": "0c6d59a3-93af-41f7-a745-fd744941726a"
      },
      "outputs": [
        {
          "output_type": "stream",
          "name": "stdout",
          "text": [
            "이름을 입력하시오: 홍길동\n",
            "홍길동 씨, 안녕하세요?\n",
            "파이썬에 오신 것을 환영합니다.\n",
            "300 과 400 의 합은 700 입니다\n"
          ]
        }
      ],
      "source": [
        "print(\"이름을 입력하시오: 홍길동\")\n",
        "print(\"홍길동 씨, 안녕하세요?\")\n",
        "print(\"파이썬에 오신 것을 환영합니다.\")\n",
        "x = 300\n",
        "y = 400\n",
        "sum = x + y\n",
        "print(x, \"과\",y,\"의 합은\", sum, \"입니다\")"
      ]
    },
    {
      "cell_type": "markdown",
      "source": [
        "이름을 입력하시오: 홍길동\n",
        "홍길동 씨, 안녕하세요?\n",
        "파이썬에 오신 것을 환영합니다.\n"
      ],
      "metadata": {
        "id": "XY0r9lWQtxJe"
      }
    }
  ]
}